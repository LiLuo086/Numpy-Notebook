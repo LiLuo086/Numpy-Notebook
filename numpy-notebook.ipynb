{
 "cells": [
  {
   "cell_type": "code",
   "execution_count": 1,
   "id": "65e53784",
   "metadata": {
    "execution": {
     "iopub.execute_input": "2024-01-11T19:48:38.972579Z",
     "iopub.status.busy": "2024-01-11T19:48:38.971697Z",
     "iopub.status.idle": "2024-01-11T19:48:38.983735Z",
     "shell.execute_reply": "2024-01-11T19:48:38.982762Z"
    },
    "papermill": {
     "duration": 0.027279,
     "end_time": "2024-01-11T19:48:38.986138",
     "exception": false,
     "start_time": "2024-01-11T19:48:38.958859",
     "status": "completed"
    },
    "tags": []
   },
   "outputs": [],
   "source": [
    "import numpy as np"
   ]
  },
  {
   "cell_type": "code",
   "execution_count": 2,
   "id": "6023b277",
   "metadata": {
    "execution": {
     "iopub.execute_input": "2024-01-11T19:48:39.006005Z",
     "iopub.status.busy": "2024-01-11T19:48:39.005638Z",
     "iopub.status.idle": "2024-01-11T19:48:39.010967Z",
     "shell.execute_reply": "2024-01-11T19:48:39.009918Z"
    },
    "papermill": {
     "duration": 0.018524,
     "end_time": "2024-01-11T19:48:39.013604",
     "exception": false,
     "start_time": "2024-01-11T19:48:38.995080",
     "status": "completed"
    },
    "tags": []
   },
   "outputs": [
    {
     "name": "stdout",
     "output_type": "stream",
     "text": [
      "The installed numpy version is: 1.24.3\n"
     ]
    }
   ],
   "source": [
    "# Display the installed numpy version\n",
    "\n",
    "print('The installed numpy version is:', np.__version__)"
   ]
  },
  {
   "cell_type": "markdown",
   "id": "29315bfc",
   "metadata": {
    "papermill": {
     "duration": 0.008807,
     "end_time": "2024-01-11T19:48:39.031468",
     "exception": false,
     "start_time": "2024-01-11T19:48:39.022661",
     "status": "completed"
    },
    "tags": []
   },
   "source": [
    "--------------------------------------------------------\n",
    "### **Generate a numpy array, filling with zeros**\n",
    "\n",
    "The default data type in the numpy array is platform dependent, but we can specify the data type with parameter **dtype**"
   ]
  },
  {
   "cell_type": "code",
   "execution_count": 3,
   "id": "163b830d",
   "metadata": {
    "execution": {
     "iopub.execute_input": "2024-01-11T19:48:39.051200Z",
     "iopub.status.busy": "2024-01-11T19:48:39.050790Z",
     "iopub.status.idle": "2024-01-11T19:48:39.057380Z",
     "shell.execute_reply": "2024-01-11T19:48:39.056316Z"
    },
    "papermill": {
     "duration": 0.019378,
     "end_time": "2024-01-11T19:48:39.059807",
     "exception": false,
     "start_time": "2024-01-11T19:48:39.040429",
     "status": "completed"
    },
    "tags": []
   },
   "outputs": [
    {
     "name": "stdout",
     "output_type": "stream",
     "text": [
      "[0. 0. 0. 0. 0.]\n",
      "\n",
      "The data type of zero_array is: float64\n"
     ]
    }
   ],
   "source": [
    "# Using np.zeros() to generate zeros array\n",
    "zeros_array = np.zeros(5)\n",
    "\n",
    "# Show the content of zeros_array explicitly\n",
    "print(zeros_array)\n",
    "\n",
    "# Check the data type of zeros_array\n",
    "print('\\nThe data type of zero_array is:', zeros_array.dtype)"
   ]
  },
  {
   "cell_type": "code",
   "execution_count": 4,
   "id": "a5d1f9f3",
   "metadata": {
    "execution": {
     "iopub.execute_input": "2024-01-11T19:48:39.079591Z",
     "iopub.status.busy": "2024-01-11T19:48:39.079178Z",
     "iopub.status.idle": "2024-01-11T19:48:39.085548Z",
     "shell.execute_reply": "2024-01-11T19:48:39.084450Z"
    },
    "papermill": {
     "duration": 0.019632,
     "end_time": "2024-01-11T19:48:39.088432",
     "exception": false,
     "start_time": "2024-01-11T19:48:39.068800",
     "status": "completed"
    },
    "tags": []
   },
   "outputs": [
    {
     "name": "stdout",
     "output_type": "stream",
     "text": [
      "[0 0 0 0 0]\n",
      "\n",
      "The data type of zero_array is: int8\n"
     ]
    }
   ],
   "source": [
    "# Specifying the data typf as int8 when generate a zeros array\n",
    "zero_array_int = np.zeros(5, dtype=np.int8)\n",
    "\n",
    "# Show the content of zeros_array explicitly\n",
    "print(zero_array_int)\n",
    "\n",
    "# Check the data type of zero_array_int\n",
    "print('\\nThe data type of zero_array is:', zero_array_int.dtype)"
   ]
  },
  {
   "cell_type": "markdown",
   "id": "f679859a",
   "metadata": {
    "papermill": {
     "duration": 0.008793,
     "end_time": "2024-01-11T19:48:39.106253",
     "exception": false,
     "start_time": "2024-01-11T19:48:39.097460",
     "status": "completed"
    },
    "tags": []
   },
   "source": [
    "-------------------------------------------\n",
    "### **Generate a numpy array, filling with ones**"
   ]
  },
  {
   "cell_type": "markdown",
   "id": "789c6283",
   "metadata": {
    "papermill": {
     "duration": 0.008868,
     "end_time": "2024-01-11T19:48:39.125325",
     "exception": false,
     "start_time": "2024-01-11T19:48:39.116457",
     "status": "completed"
    },
    "tags": []
   },
   "source": [
    "#### **Generate a numpy with integer numbers, filling with ones**"
   ]
  },
  {
   "cell_type": "code",
   "execution_count": 5,
   "id": "193300a1",
   "metadata": {
    "execution": {
     "iopub.execute_input": "2024-01-11T19:48:39.145101Z",
     "iopub.status.busy": "2024-01-11T19:48:39.144709Z",
     "iopub.status.idle": "2024-01-11T19:48:39.150946Z",
     "shell.execute_reply": "2024-01-11T19:48:39.149796Z"
    },
    "papermill": {
     "duration": 0.019609,
     "end_time": "2024-01-11T19:48:39.153948",
     "exception": false,
     "start_time": "2024-01-11T19:48:39.134339",
     "status": "completed"
    },
    "tags": []
   },
   "outputs": [
    {
     "name": "stdout",
     "output_type": "stream",
     "text": [
      "[[1 1 1]\n",
      " [1 1 1]\n",
      " [1 1 1]]\n",
      "\n",
      "The data type of ones_array is: int8\n"
     ]
    }
   ],
   "source": [
    "# Using np.ones() to generate an array filling with integer ones\n",
    "ones_array = np.ones([3,3], dtype=np.int8)\n",
    "\n",
    "# Display the content of ones_array\n",
    "print(ones_array)\n",
    "\n",
    "# Check the data type of ones_array\n",
    "print('\\nThe data type of ones_array is:',ones_array.dtype)"
   ]
  },
  {
   "cell_type": "markdown",
   "id": "5efd4c9e",
   "metadata": {
    "papermill": {
     "duration": 0.008965,
     "end_time": "2024-01-11T19:48:39.172124",
     "exception": false,
     "start_time": "2024-01-11T19:48:39.163159",
     "status": "completed"
    },
    "tags": []
   },
   "source": [
    "#### **Generate a numpy with float numbers, filling with ones**"
   ]
  },
  {
   "cell_type": "code",
   "execution_count": 6,
   "id": "cb858808",
   "metadata": {
    "execution": {
     "iopub.execute_input": "2024-01-11T19:48:39.192213Z",
     "iopub.status.busy": "2024-01-11T19:48:39.191804Z",
     "iopub.status.idle": "2024-01-11T19:48:39.198629Z",
     "shell.execute_reply": "2024-01-11T19:48:39.197424Z"
    },
    "papermill": {
     "duration": 0.020309,
     "end_time": "2024-01-11T19:48:39.201557",
     "exception": false,
     "start_time": "2024-01-11T19:48:39.181248",
     "status": "completed"
    },
    "tags": []
   },
   "outputs": [
    {
     "name": "stdout",
     "output_type": "stream",
     "text": [
      "[[1. 1. 1.]\n",
      " [1. 1. 1.]\n",
      " [1. 1. 1.]]\n",
      "\n",
      "The data type of ones_array is: float16\n"
     ]
    }
   ],
   "source": [
    "# Using np.ones() to generate an array filling with float ones\n",
    "ones_array = np.ones([3,3], dtype=np.float16)\n",
    "\n",
    "# Display the content of ones_array\n",
    "print(ones_array)\n",
    "\n",
    "# Check the data type of ones_array\n",
    "print('\\nThe data type of ones_array is:',ones_array.dtype)"
   ]
  },
  {
   "cell_type": "markdown",
   "id": "6d224843",
   "metadata": {
    "papermill": {
     "duration": 0.009388,
     "end_time": "2024-01-11T19:48:39.220240",
     "exception": false,
     "start_time": "2024-01-11T19:48:39.210852",
     "status": "completed"
    },
    "tags": []
   },
   "source": [
    "------------------------------------\n",
    "### **Generate a matrix with the same shape of a given matrix, filling with ones or zeros**"
   ]
  },
  {
   "cell_type": "code",
   "execution_count": 7,
   "id": "9f7fc1bc",
   "metadata": {
    "execution": {
     "iopub.execute_input": "2024-01-11T19:48:39.240358Z",
     "iopub.status.busy": "2024-01-11T19:48:39.239952Z",
     "iopub.status.idle": "2024-01-11T19:48:39.248537Z",
     "shell.execute_reply": "2024-01-11T19:48:39.247461Z"
    },
    "papermill": {
     "duration": 0.021579,
     "end_time": "2024-01-11T19:48:39.251044",
     "exception": false,
     "start_time": "2024-01-11T19:48:39.229465",
     "status": "completed"
    },
    "tags": []
   },
   "outputs": [
    {
     "data": {
      "text/plain": [
       "array([1, 1, 1], dtype=int8)"
      ]
     },
     "execution_count": 7,
     "metadata": {},
     "output_type": "execute_result"
    }
   ],
   "source": [
    "X = np.arange(3, dtype=np.int8)\n",
    "\n",
    "# Using np.ones_like() to generate an ones array that has the same shape like X\n",
    "np.ones_like(X)"
   ]
  },
  {
   "cell_type": "code",
   "execution_count": 8,
   "id": "426ee8fb",
   "metadata": {
    "execution": {
     "iopub.execute_input": "2024-01-11T19:48:39.271893Z",
     "iopub.status.busy": "2024-01-11T19:48:39.271521Z",
     "iopub.status.idle": "2024-01-11T19:48:39.278476Z",
     "shell.execute_reply": "2024-01-11T19:48:39.277360Z"
    },
    "papermill": {
     "duration": 0.020503,
     "end_time": "2024-01-11T19:48:39.281000",
     "exception": false,
     "start_time": "2024-01-11T19:48:39.260497",
     "status": "completed"
    },
    "tags": []
   },
   "outputs": [
    {
     "data": {
      "text/plain": [
       "array([0, 0, 0], dtype=int8)"
      ]
     },
     "execution_count": 8,
     "metadata": {},
     "output_type": "execute_result"
    }
   ],
   "source": [
    "# Using np.zeros_like() to generate a zeros array that has the same shape like X\n",
    "np.zeros_like(X)"
   ]
  },
  {
   "cell_type": "markdown",
   "id": "25ef1743",
   "metadata": {
    "papermill": {
     "duration": 0.009365,
     "end_time": "2024-01-11T19:48:39.300171",
     "exception": false,
     "start_time": "2024-01-11T19:48:39.290806",
     "status": "completed"
    },
    "tags": []
   },
   "source": [
    "#### **Generate a 5x5 matrix, filling with fives**"
   ]
  },
  {
   "cell_type": "code",
   "execution_count": 9,
   "id": "a296608e",
   "metadata": {
    "execution": {
     "iopub.execute_input": "2024-01-11T19:48:39.321387Z",
     "iopub.status.busy": "2024-01-11T19:48:39.320652Z",
     "iopub.status.idle": "2024-01-11T19:48:39.327319Z",
     "shell.execute_reply": "2024-01-11T19:48:39.326534Z"
    },
    "papermill": {
     "duration": 0.01978,
     "end_time": "2024-01-11T19:48:39.329452",
     "exception": false,
     "start_time": "2024-01-11T19:48:39.309672",
     "status": "completed"
    },
    "tags": []
   },
   "outputs": [
    {
     "data": {
      "text/plain": [
       "array([[5, 5, 5, 5, 5],\n",
       "       [5, 5, 5, 5, 5],\n",
       "       [5, 5, 5, 5, 5],\n",
       "       [5, 5, 5, 5, 5],\n",
       "       [5, 5, 5, 5, 5]], dtype=int8)"
      ]
     },
     "execution_count": 9,
     "metadata": {},
     "output_type": "execute_result"
    }
   ],
   "source": [
    "np.ones([5,5], dtype=np.int8)*5"
   ]
  },
  {
   "cell_type": "markdown",
   "id": "766987ec",
   "metadata": {
    "papermill": {
     "duration": 0.009288,
     "end_time": "2024-01-11T19:48:39.348378",
     "exception": false,
     "start_time": "2024-01-11T19:48:39.339090",
     "status": "completed"
    },
    "tags": []
   },
   "source": [
    "-------------------------------------------------------------\n",
    "### **Generate a numpy array that ranges from 1 to 20**"
   ]
  },
  {
   "cell_type": "code",
   "execution_count": 10,
   "id": "4d6ecd91",
   "metadata": {
    "execution": {
     "iopub.execute_input": "2024-01-11T19:48:39.369404Z",
     "iopub.status.busy": "2024-01-11T19:48:39.368991Z",
     "iopub.status.idle": "2024-01-11T19:48:39.377430Z",
     "shell.execute_reply": "2024-01-11T19:48:39.376277Z"
    },
    "papermill": {
     "duration": 0.021917,
     "end_time": "2024-01-11T19:48:39.379818",
     "exception": false,
     "start_time": "2024-01-11T19:48:39.357901",
     "status": "completed"
    },
    "tags": []
   },
   "outputs": [
    {
     "data": {
      "text/plain": [
       "array([ 1,  2,  3,  4,  5,  6,  7,  8,  9, 10, 11, 12, 13, 14, 15, 16, 17,\n",
       "       18, 19])"
      ]
     },
     "execution_count": 10,
     "metadata": {},
     "output_type": "execute_result"
    }
   ],
   "source": [
    "# Using np.arange() to generate an array within a given range [x1,x2], x2 will not be included\n",
    "a = np.arange(1,20)\n",
    "\n",
    "a"
   ]
  },
  {
   "cell_type": "markdown",
   "id": "74995b67",
   "metadata": {
    "papermill": {
     "duration": 0.00957,
     "end_time": "2024-01-11T19:48:39.399413",
     "exception": false,
     "start_time": "2024-01-11T19:48:39.389843",
     "status": "completed"
    },
    "tags": []
   },
   "source": [
    "-----------------------------\n",
    "### **Generate a matrix with ones on the diagonol**"
   ]
  },
  {
   "cell_type": "code",
   "execution_count": 11,
   "id": "01875037",
   "metadata": {
    "execution": {
     "iopub.execute_input": "2024-01-11T19:48:39.420959Z",
     "iopub.status.busy": "2024-01-11T19:48:39.420584Z",
     "iopub.status.idle": "2024-01-11T19:48:39.428875Z",
     "shell.execute_reply": "2024-01-11T19:48:39.426523Z"
    },
    "papermill": {
     "duration": 0.021838,
     "end_time": "2024-01-11T19:48:39.431232",
     "exception": false,
     "start_time": "2024-01-11T19:48:39.409394",
     "status": "completed"
    },
    "tags": []
   },
   "outputs": [
    {
     "data": {
      "text/plain": [
       "array([[1, 0, 0],\n",
       "       [0, 1, 0],\n",
       "       [0, 0, 1]], dtype=int8)"
      ]
     },
     "execution_count": 11,
     "metadata": {},
     "output_type": "execute_result"
    }
   ],
   "source": [
    "# Using np.eye() to generate a diagonol matrix\n",
    "np.eye(3, dtype=np.int8)"
   ]
  },
  {
   "cell_type": "code",
   "execution_count": 12,
   "id": "b43a0efd",
   "metadata": {
    "execution": {
     "iopub.execute_input": "2024-01-11T19:48:39.453043Z",
     "iopub.status.busy": "2024-01-11T19:48:39.452614Z",
     "iopub.status.idle": "2024-01-11T19:48:39.459900Z",
     "shell.execute_reply": "2024-01-11T19:48:39.458888Z"
    },
    "papermill": {
     "duration": 0.020641,
     "end_time": "2024-01-11T19:48:39.462004",
     "exception": false,
     "start_time": "2024-01-11T19:48:39.441363",
     "status": "completed"
    },
    "tags": []
   },
   "outputs": [
    {
     "data": {
      "text/plain": [
       "array([[5, 0, 0, 0],\n",
       "       [0, 5, 0, 0],\n",
       "       [0, 0, 5, 0],\n",
       "       [0, 0, 0, 5]], dtype=int8)"
      ]
     },
     "execution_count": 12,
     "metadata": {},
     "output_type": "execute_result"
    }
   ],
   "source": [
    "# Using np.eye() to generate a diagonol matrix with 5 on the diagonol\n",
    "np.eye(4, dtype=np.int8)*5"
   ]
  },
  {
   "cell_type": "markdown",
   "id": "4d346b63",
   "metadata": {
    "papermill": {
     "duration": 0.009843,
     "end_time": "2024-01-11T19:48:39.482011",
     "exception": false,
     "start_time": "2024-01-11T19:48:39.472168",
     "status": "completed"
    },
    "tags": []
   },
   "source": [
    "----------------------------\n",
    "### **Generate random numbers**"
   ]
  },
  {
   "cell_type": "markdown",
   "id": "76700717",
   "metadata": {
    "papermill": {
     "duration": 0.009704,
     "end_time": "2024-01-11T19:48:39.501899",
     "exception": false,
     "start_time": "2024-01-11T19:48:39.492195",
     "status": "completed"
    },
    "tags": []
   },
   "source": [
    "**np.random.randint(low, high=None, size=None, dtype=int)**  \n",
    "\n",
    "numpy random module used to generat random numbers, and has following parameters:  \n",
    "**low**: The lowest (inclusive) integer to be drawn from the distribution.  \n",
    "**high**: The highest (exclusive) integer to be drawn from the distribution. If omitted, the range is assumed to be [0, low).  \n",
    "**size**: The number of random integers to generate. If size is None, a single random integer is returned. If size is an integer, it specifies the number of integers to generate.  \n",
    "**dtype**: Data type of the result. If not specified, it defaults to the data type of the array created."
   ]
  },
  {
   "cell_type": "code",
   "execution_count": 13,
   "id": "bf5bbb2c",
   "metadata": {
    "execution": {
     "iopub.execute_input": "2024-01-11T19:48:39.523837Z",
     "iopub.status.busy": "2024-01-11T19:48:39.523480Z",
     "iopub.status.idle": "2024-01-11T19:48:39.531950Z",
     "shell.execute_reply": "2024-01-11T19:48:39.531111Z"
    },
    "papermill": {
     "duration": 0.022216,
     "end_time": "2024-01-11T19:48:39.534116",
     "exception": false,
     "start_time": "2024-01-11T19:48:39.511900",
     "status": "completed"
    },
    "tags": []
   },
   "outputs": [
    {
     "data": {
      "text/plain": [
       "array([5, 7, 5])"
      ]
     },
     "execution_count": 13,
     "metadata": {},
     "output_type": "execute_result"
    }
   ],
   "source": [
    "np.random.randint(10, size=3)"
   ]
  },
  {
   "cell_type": "code",
   "execution_count": 14,
   "id": "f230f7d9",
   "metadata": {
    "execution": {
     "iopub.execute_input": "2024-01-11T19:48:39.556631Z",
     "iopub.status.busy": "2024-01-11T19:48:39.556212Z",
     "iopub.status.idle": "2024-01-11T19:48:39.563356Z",
     "shell.execute_reply": "2024-01-11T19:48:39.562481Z"
    },
    "papermill": {
     "duration": 0.021037,
     "end_time": "2024-01-11T19:48:39.565431",
     "exception": false,
     "start_time": "2024-01-11T19:48:39.544394",
     "status": "completed"
    },
    "tags": []
   },
   "outputs": [
    {
     "data": {
      "text/plain": [
       "array([[12,  8,  1],\n",
       "       [ 6,  1, 10]])"
      ]
     },
     "execution_count": 14,
     "metadata": {},
     "output_type": "execute_result"
    }
   ],
   "source": [
    "np.random.randint(1,15,size=[2,3])"
   ]
  },
  {
   "cell_type": "markdown",
   "id": "969d106b",
   "metadata": {
    "papermill": {
     "duration": 0.010082,
     "end_time": "2024-01-11T19:48:39.586696",
     "exception": false,
     "start_time": "2024-01-11T19:48:39.576614",
     "status": "completed"
    },
    "tags": []
   },
   "source": [
    "**np.random.randn(d0,d1,...dn)**\n",
    "\n",
    "generate random numbers from a **standard normal distribution**(mean=0, standard deviation=1). Its parameters d0, d1,...dn are the dimenstions of the output. If it is not given, a single random number will be generated."
   ]
  },
  {
   "cell_type": "code",
   "execution_count": 15,
   "id": "015bcbbb",
   "metadata": {
    "execution": {
     "iopub.execute_input": "2024-01-11T19:48:39.609492Z",
     "iopub.status.busy": "2024-01-11T19:48:39.609072Z",
     "iopub.status.idle": "2024-01-11T19:48:39.616464Z",
     "shell.execute_reply": "2024-01-11T19:48:39.615373Z"
    },
    "papermill": {
     "duration": 0.021364,
     "end_time": "2024-01-11T19:48:39.618571",
     "exception": false,
     "start_time": "2024-01-11T19:48:39.597207",
     "status": "completed"
    },
    "tags": []
   },
   "outputs": [
    {
     "data": {
      "text/plain": [
       "-0.03362259180685362"
      ]
     },
     "execution_count": 15,
     "metadata": {},
     "output_type": "execute_result"
    }
   ],
   "source": [
    "random_sample = np.random.randn()\n",
    "random_sample"
   ]
  },
  {
   "cell_type": "code",
   "execution_count": 16,
   "id": "512011c8",
   "metadata": {
    "execution": {
     "iopub.execute_input": "2024-01-11T19:48:39.641568Z",
     "iopub.status.busy": "2024-01-11T19:48:39.641135Z",
     "iopub.status.idle": "2024-01-11T19:48:39.647802Z",
     "shell.execute_reply": "2024-01-11T19:48:39.646740Z"
    },
    "papermill": {
     "duration": 0.020785,
     "end_time": "2024-01-11T19:48:39.649987",
     "exception": false,
     "start_time": "2024-01-11T19:48:39.629202",
     "status": "completed"
    },
    "tags": []
   },
   "outputs": [
    {
     "data": {
      "text/plain": [
       "array([ 0.15422905, -0.06560337, -1.52752335])"
      ]
     },
     "execution_count": 16,
     "metadata": {},
     "output_type": "execute_result"
    }
   ],
   "source": [
    "random_array = np.random.randn(3)\n",
    "random_array"
   ]
  },
  {
   "cell_type": "code",
   "execution_count": 17,
   "id": "13ce2c95",
   "metadata": {
    "execution": {
     "iopub.execute_input": "2024-01-11T19:48:39.673229Z",
     "iopub.status.busy": "2024-01-11T19:48:39.672822Z",
     "iopub.status.idle": "2024-01-11T19:48:39.679442Z",
     "shell.execute_reply": "2024-01-11T19:48:39.677666Z"
    },
    "papermill": {
     "duration": 0.020855,
     "end_time": "2024-01-11T19:48:39.681765",
     "exception": false,
     "start_time": "2024-01-11T19:48:39.660910",
     "status": "completed"
    },
    "tags": []
   },
   "outputs": [
    {
     "name": "stdout",
     "output_type": "stream",
     "text": [
      "[[-0.77471667 -2.52171255 -0.10113751  0.39514819]\n",
      " [-1.22597291  0.47104936  2.20698019  1.65420196]]\n"
     ]
    }
   ],
   "source": [
    "random_matrix = np.random.randn(2,4)\n",
    "print(random_matrix)"
   ]
  },
  {
   "cell_type": "markdown",
   "id": "e5bf601e",
   "metadata": {
    "papermill": {
     "duration": 0.010654,
     "end_time": "2024-01-11T19:48:39.703238",
     "exception": false,
     "start_time": "2024-01-11T19:48:39.692584",
     "status": "completed"
    },
    "tags": []
   },
   "source": [
    "**`seed()`**: sets the random seed, so that your results are reproducible between simulations. As an argument, it takes an integer of your choosing. If you call the function, no output will be generated.\n",
    "\n",
    "**`rand()`**: if you don't specify any arguments, it generates a random float between zero and one."
   ]
  },
  {
   "cell_type": "code",
   "execution_count": 18,
   "id": "b56d038a",
   "metadata": {
    "execution": {
     "iopub.execute_input": "2024-01-11T19:48:39.727410Z",
     "iopub.status.busy": "2024-01-11T19:48:39.726953Z",
     "iopub.status.idle": "2024-01-11T19:48:39.732998Z",
     "shell.execute_reply": "2024-01-11T19:48:39.731546Z"
    },
    "papermill": {
     "duration": 0.021206,
     "end_time": "2024-01-11T19:48:39.735181",
     "exception": false,
     "start_time": "2024-01-11T19:48:39.713975",
     "status": "completed"
    },
    "tags": []
   },
   "outputs": [
    {
     "name": "stdout",
     "output_type": "stream",
     "text": [
      "0.6964691855978616\n"
     ]
    }
   ],
   "source": [
    "# Set the seed\n",
    "np.random.seed(123)\n",
    "\n",
    "\n",
    "# Generate and print random float\n",
    "print(np.random.rand())"
   ]
  }
 ],
 "metadata": {
  "kaggle": {
   "accelerator": "none",
   "dataSources": [],
   "dockerImageVersionId": 30587,
   "isGpuEnabled": false,
   "isInternetEnabled": true,
   "language": "python",
   "sourceType": "notebook"
  },
  "kernelspec": {
   "display_name": "Python 3",
   "language": "python",
   "name": "python3"
  },
  "language_info": {
   "codemirror_mode": {
    "name": "ipython",
    "version": 3
   },
   "file_extension": ".py",
   "mimetype": "text/x-python",
   "name": "python",
   "nbconvert_exporter": "python",
   "pygments_lexer": "ipython3",
   "version": "3.10.12"
  },
  "papermill": {
   "default_parameters": {},
   "duration": 4.872758,
   "end_time": "2024-01-11T19:48:40.068289",
   "environment_variables": {},
   "exception": null,
   "input_path": "__notebook__.ipynb",
   "output_path": "__notebook__.ipynb",
   "parameters": {},
   "start_time": "2024-01-11T19:48:35.195531",
   "version": "2.4.0"
  }
 },
 "nbformat": 4,
 "nbformat_minor": 5
}
