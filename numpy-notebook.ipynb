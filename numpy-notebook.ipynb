{
 "cells": [
  {
   "cell_type": "code",
   "execution_count": 1,
   "id": "f367e14d",
   "metadata": {
    "execution": {
     "iopub.execute_input": "2023-11-30T20:12:27.208427Z",
     "iopub.status.busy": "2023-11-30T20:12:27.207684Z",
     "iopub.status.idle": "2023-11-30T20:12:27.218406Z",
     "shell.execute_reply": "2023-11-30T20:12:27.217545Z"
    },
    "papermill": {
     "duration": 0.026655,
     "end_time": "2023-11-30T20:12:27.220674",
     "exception": false,
     "start_time": "2023-11-30T20:12:27.194019",
     "status": "completed"
    },
    "tags": []
   },
   "outputs": [],
   "source": [
    "import numpy as np"
   ]
  },
  {
   "cell_type": "code",
   "execution_count": 2,
   "id": "33260032",
   "metadata": {
    "execution": {
     "iopub.execute_input": "2023-11-30T20:12:27.240130Z",
     "iopub.status.busy": "2023-11-30T20:12:27.239465Z",
     "iopub.status.idle": "2023-11-30T20:12:27.244545Z",
     "shell.execute_reply": "2023-11-30T20:12:27.243538Z"
    },
    "papermill": {
     "duration": 0.017006,
     "end_time": "2023-11-30T20:12:27.246638",
     "exception": false,
     "start_time": "2023-11-30T20:12:27.229632",
     "status": "completed"
    },
    "tags": []
   },
   "outputs": [
    {
     "name": "stdout",
     "output_type": "stream",
     "text": [
      "The installed numpy version is: 1.24.3\n"
     ]
    }
   ],
   "source": [
    "# Display the installed numpy version\n",
    "\n",
    "print('The installed numpy version is:', np.__version__)"
   ]
  },
  {
   "cell_type": "markdown",
   "id": "eb89f157",
   "metadata": {
    "papermill": {
     "duration": 0.008207,
     "end_time": "2023-11-30T20:12:27.263097",
     "exception": false,
     "start_time": "2023-11-30T20:12:27.254890",
     "status": "completed"
    },
    "tags": []
   },
   "source": [
    "--------------------------------------------------------\n",
    "### **Generate a numpy array, filling with zeros**\n",
    "\n",
    "The default data type in the numpy array is platform dependent, but we can specify the data type with parameter **dtype**"
   ]
  },
  {
   "cell_type": "code",
   "execution_count": 3,
   "id": "d766790f",
   "metadata": {
    "execution": {
     "iopub.execute_input": "2023-11-30T20:12:27.281504Z",
     "iopub.status.busy": "2023-11-30T20:12:27.280855Z",
     "iopub.status.idle": "2023-11-30T20:12:27.287322Z",
     "shell.execute_reply": "2023-11-30T20:12:27.286288Z"
    },
    "papermill": {
     "duration": 0.019201,
     "end_time": "2023-11-30T20:12:27.290665",
     "exception": false,
     "start_time": "2023-11-30T20:12:27.271464",
     "status": "completed"
    },
    "tags": []
   },
   "outputs": [
    {
     "name": "stdout",
     "output_type": "stream",
     "text": [
      "[0. 0. 0. 0. 0.]\n",
      "\n",
      "The data type of zero_array is: float64\n"
     ]
    }
   ],
   "source": [
    "# Using np.zeros() to generate zeros array\n",
    "zeros_array = np.zeros(5)\n",
    "\n",
    "# Show the content of zeros_array explicitly\n",
    "print(zeros_array)\n",
    "\n",
    "# Check the data type of zeros_array\n",
    "print('\\nThe data type of zero_array is:', zeros_array.dtype)"
   ]
  },
  {
   "cell_type": "code",
   "execution_count": 4,
   "id": "5baa1b17",
   "metadata": {
    "execution": {
     "iopub.execute_input": "2023-11-30T20:12:27.310062Z",
     "iopub.status.busy": "2023-11-30T20:12:27.308923Z",
     "iopub.status.idle": "2023-11-30T20:12:27.316395Z",
     "shell.execute_reply": "2023-11-30T20:12:27.315071Z"
    },
    "papermill": {
     "duration": 0.0195,
     "end_time": "2023-11-30T20:12:27.318618",
     "exception": false,
     "start_time": "2023-11-30T20:12:27.299118",
     "status": "completed"
    },
    "tags": []
   },
   "outputs": [
    {
     "name": "stdout",
     "output_type": "stream",
     "text": [
      "[0 0 0 0 0]\n",
      "\n",
      "The data type of zero_array is: int8\n"
     ]
    }
   ],
   "source": [
    "# Specifying the data typf as int8 when generate a zeros array\n",
    "zero_array_int = np.zeros(5, dtype=np.int8)\n",
    "\n",
    "# Show the content of zeros_array explicitly\n",
    "print(zero_array_int)\n",
    "\n",
    "# Check the data type of zero_array_int\n",
    "print('\\nThe data type of zero_array is:', zero_array_int.dtype)"
   ]
  },
  {
   "cell_type": "markdown",
   "id": "b88bdc9c",
   "metadata": {
    "papermill": {
     "duration": 0.008233,
     "end_time": "2023-11-30T20:12:27.335254",
     "exception": false,
     "start_time": "2023-11-30T20:12:27.327021",
     "status": "completed"
    },
    "tags": []
   },
   "source": [
    "-------------------------------------------\n",
    "### **Generate a numpy array, filling with ones**"
   ]
  },
  {
   "cell_type": "markdown",
   "id": "f8eab086",
   "metadata": {
    "papermill": {
     "duration": 0.008111,
     "end_time": "2023-11-30T20:12:27.351750",
     "exception": false,
     "start_time": "2023-11-30T20:12:27.343639",
     "status": "completed"
    },
    "tags": []
   },
   "source": [
    "#### **Generate a numpy with integer numbers, filling with ones**"
   ]
  },
  {
   "cell_type": "code",
   "execution_count": 5,
   "id": "a85df132",
   "metadata": {
    "execution": {
     "iopub.execute_input": "2023-11-30T20:12:27.370832Z",
     "iopub.status.busy": "2023-11-30T20:12:27.369838Z",
     "iopub.status.idle": "2023-11-30T20:12:27.377368Z",
     "shell.execute_reply": "2023-11-30T20:12:27.375939Z"
    },
    "papermill": {
     "duration": 0.019542,
     "end_time": "2023-11-30T20:12:27.379706",
     "exception": false,
     "start_time": "2023-11-30T20:12:27.360164",
     "status": "completed"
    },
    "tags": []
   },
   "outputs": [
    {
     "name": "stdout",
     "output_type": "stream",
     "text": [
      "[[1 1 1]\n",
      " [1 1 1]\n",
      " [1 1 1]]\n",
      "\n",
      "The data type of ones_array is: int8\n"
     ]
    }
   ],
   "source": [
    "# Using np.ones() to generate an array filling with integer ones\n",
    "ones_array = np.ones([3,3], dtype=np.int8)\n",
    "\n",
    "# Display the content of ones_array\n",
    "print(ones_array)\n",
    "\n",
    "# Check the data type of ones_array\n",
    "print('\\nThe data type of ones_array is:',ones_array.dtype)"
   ]
  },
  {
   "cell_type": "markdown",
   "id": "f7b835b9",
   "metadata": {
    "papermill": {
     "duration": 0.008228,
     "end_time": "2023-11-30T20:12:27.396408",
     "exception": false,
     "start_time": "2023-11-30T20:12:27.388180",
     "status": "completed"
    },
    "tags": []
   },
   "source": [
    "#### **Generate a numpy with float numbers, filling with ones**"
   ]
  },
  {
   "cell_type": "code",
   "execution_count": 6,
   "id": "25f21e87",
   "metadata": {
    "execution": {
     "iopub.execute_input": "2023-11-30T20:12:27.415462Z",
     "iopub.status.busy": "2023-11-30T20:12:27.414718Z",
     "iopub.status.idle": "2023-11-30T20:12:27.422075Z",
     "shell.execute_reply": "2023-11-30T20:12:27.420666Z"
    },
    "papermill": {
     "duration": 0.019612,
     "end_time": "2023-11-30T20:12:27.424382",
     "exception": false,
     "start_time": "2023-11-30T20:12:27.404770",
     "status": "completed"
    },
    "tags": []
   },
   "outputs": [
    {
     "name": "stdout",
     "output_type": "stream",
     "text": [
      "[[1. 1. 1.]\n",
      " [1. 1. 1.]\n",
      " [1. 1. 1.]]\n",
      "\n",
      "The data type of ones_array is: float16\n"
     ]
    }
   ],
   "source": [
    "# Using np.ones() to generate an array filling with float ones\n",
    "ones_array = np.ones([3,3], dtype=np.float16)\n",
    "\n",
    "# Display the content of ones_array\n",
    "print(ones_array)\n",
    "\n",
    "# Check the data type of ones_array\n",
    "print('\\nThe data type of ones_array is:',ones_array.dtype)"
   ]
  },
  {
   "cell_type": "markdown",
   "id": "b382ad2b",
   "metadata": {
    "papermill": {
     "duration": 0.008834,
     "end_time": "2023-11-30T20:12:27.441966",
     "exception": false,
     "start_time": "2023-11-30T20:12:27.433132",
     "status": "completed"
    },
    "tags": []
   },
   "source": [
    "------------------------------------\n",
    "### **Generate a matrix with the same shape of a given matrix, filling with ones or zeros**"
   ]
  },
  {
   "cell_type": "code",
   "execution_count": 7,
   "id": "ed1c61ac",
   "metadata": {
    "execution": {
     "iopub.execute_input": "2023-11-30T20:12:27.461626Z",
     "iopub.status.busy": "2023-11-30T20:12:27.461220Z",
     "iopub.status.idle": "2023-11-30T20:12:27.469814Z",
     "shell.execute_reply": "2023-11-30T20:12:27.468768Z"
    },
    "papermill": {
     "duration": 0.021172,
     "end_time": "2023-11-30T20:12:27.472019",
     "exception": false,
     "start_time": "2023-11-30T20:12:27.450847",
     "status": "completed"
    },
    "tags": []
   },
   "outputs": [
    {
     "data": {
      "text/plain": [
       "array([1, 1, 1], dtype=int8)"
      ]
     },
     "execution_count": 7,
     "metadata": {},
     "output_type": "execute_result"
    }
   ],
   "source": [
    "X = np.arange(3, dtype=np.int8)\n",
    "\n",
    "# Using np.ones_like() to generate an ones array that has the same shape like X\n",
    "np.ones_like(X)"
   ]
  },
  {
   "cell_type": "code",
   "execution_count": 8,
   "id": "c97f4f3c",
   "metadata": {
    "execution": {
     "iopub.execute_input": "2023-11-30T20:12:27.492972Z",
     "iopub.status.busy": "2023-11-30T20:12:27.492283Z",
     "iopub.status.idle": "2023-11-30T20:12:27.498682Z",
     "shell.execute_reply": "2023-11-30T20:12:27.497597Z"
    },
    "papermill": {
     "duration": 0.019494,
     "end_time": "2023-11-30T20:12:27.500936",
     "exception": false,
     "start_time": "2023-11-30T20:12:27.481442",
     "status": "completed"
    },
    "tags": []
   },
   "outputs": [
    {
     "data": {
      "text/plain": [
       "array([0, 0, 0], dtype=int8)"
      ]
     },
     "execution_count": 8,
     "metadata": {},
     "output_type": "execute_result"
    }
   ],
   "source": [
    "# Using np.zeros_like() to generate a zeros array that has the same shape like X\n",
    "np.zeros_like(X)"
   ]
  },
  {
   "cell_type": "markdown",
   "id": "24275d0e",
   "metadata": {
    "papermill": {
     "duration": 0.008892,
     "end_time": "2023-11-30T20:12:27.518913",
     "exception": false,
     "start_time": "2023-11-30T20:12:27.510021",
     "status": "completed"
    },
    "tags": []
   },
   "source": [
    "#### **Generate a 5x5 matrix, filling with fives**"
   ]
  },
  {
   "cell_type": "code",
   "execution_count": 9,
   "id": "9c405445",
   "metadata": {
    "execution": {
     "iopub.execute_input": "2023-11-30T20:12:27.539079Z",
     "iopub.status.busy": "2023-11-30T20:12:27.538389Z",
     "iopub.status.idle": "2023-11-30T20:12:27.546159Z",
     "shell.execute_reply": "2023-11-30T20:12:27.544978Z"
    },
    "papermill": {
     "duration": 0.020788,
     "end_time": "2023-11-30T20:12:27.548751",
     "exception": false,
     "start_time": "2023-11-30T20:12:27.527963",
     "status": "completed"
    },
    "tags": []
   },
   "outputs": [
    {
     "data": {
      "text/plain": [
       "array([[5, 5, 5, 5, 5],\n",
       "       [5, 5, 5, 5, 5],\n",
       "       [5, 5, 5, 5, 5],\n",
       "       [5, 5, 5, 5, 5],\n",
       "       [5, 5, 5, 5, 5]], dtype=int8)"
      ]
     },
     "execution_count": 9,
     "metadata": {},
     "output_type": "execute_result"
    }
   ],
   "source": [
    "np.ones([5,5], dtype=np.int8)*5"
   ]
  },
  {
   "cell_type": "markdown",
   "id": "7eba6408",
   "metadata": {
    "papermill": {
     "duration": 0.009099,
     "end_time": "2023-11-30T20:12:27.567253",
     "exception": false,
     "start_time": "2023-11-30T20:12:27.558154",
     "status": "completed"
    },
    "tags": []
   },
   "source": [
    "-------------------------------------------------------------\n",
    "### **Generate a numpy array that ranges from 1 to 20**"
   ]
  },
  {
   "cell_type": "code",
   "execution_count": 10,
   "id": "719f2d27",
   "metadata": {
    "execution": {
     "iopub.execute_input": "2023-11-30T20:12:27.587939Z",
     "iopub.status.busy": "2023-11-30T20:12:27.587104Z",
     "iopub.status.idle": "2023-11-30T20:12:27.595792Z",
     "shell.execute_reply": "2023-11-30T20:12:27.594805Z"
    },
    "papermill": {
     "duration": 0.021414,
     "end_time": "2023-11-30T20:12:27.597945",
     "exception": false,
     "start_time": "2023-11-30T20:12:27.576531",
     "status": "completed"
    },
    "tags": []
   },
   "outputs": [
    {
     "data": {
      "text/plain": [
       "array([ 1,  2,  3,  4,  5,  6,  7,  8,  9, 10, 11, 12, 13, 14, 15, 16, 17,\n",
       "       18, 19])"
      ]
     },
     "execution_count": 10,
     "metadata": {},
     "output_type": "execute_result"
    }
   ],
   "source": [
    "# Using np.arange() to generate an array within a given range [x1,x2], x2 will not be included\n",
    "a = np.arange(1,20)\n",
    "\n",
    "a"
   ]
  },
  {
   "cell_type": "markdown",
   "id": "a25ac2e7",
   "metadata": {
    "papermill": {
     "duration": 0.008852,
     "end_time": "2023-11-30T20:12:27.615945",
     "exception": false,
     "start_time": "2023-11-30T20:12:27.607093",
     "status": "completed"
    },
    "tags": []
   },
   "source": [
    "-----------------------------\n",
    "### **Generate a matrix with ones on the diagonol**"
   ]
  },
  {
   "cell_type": "code",
   "execution_count": 11,
   "id": "0ee8f356",
   "metadata": {
    "execution": {
     "iopub.execute_input": "2023-11-30T20:12:27.635876Z",
     "iopub.status.busy": "2023-11-30T20:12:27.635473Z",
     "iopub.status.idle": "2023-11-30T20:12:27.642588Z",
     "shell.execute_reply": "2023-11-30T20:12:27.641486Z"
    },
    "papermill": {
     "duration": 0.019695,
     "end_time": "2023-11-30T20:12:27.644803",
     "exception": false,
     "start_time": "2023-11-30T20:12:27.625108",
     "status": "completed"
    },
    "tags": []
   },
   "outputs": [
    {
     "data": {
      "text/plain": [
       "array([[1, 0, 0],\n",
       "       [0, 1, 0],\n",
       "       [0, 0, 1]], dtype=int8)"
      ]
     },
     "execution_count": 11,
     "metadata": {},
     "output_type": "execute_result"
    }
   ],
   "source": [
    "# Using np.eye() to generate a diagonol matrix\n",
    "np.eye(3, dtype=np.int8)"
   ]
  },
  {
   "cell_type": "code",
   "execution_count": 12,
   "id": "ad97ea80",
   "metadata": {
    "execution": {
     "iopub.execute_input": "2023-11-30T20:12:27.666568Z",
     "iopub.status.busy": "2023-11-30T20:12:27.665885Z",
     "iopub.status.idle": "2023-11-30T20:12:27.673485Z",
     "shell.execute_reply": "2023-11-30T20:12:27.672391Z"
    },
    "papermill": {
     "duration": 0.021674,
     "end_time": "2023-11-30T20:12:27.675800",
     "exception": false,
     "start_time": "2023-11-30T20:12:27.654126",
     "status": "completed"
    },
    "tags": []
   },
   "outputs": [
    {
     "data": {
      "text/plain": [
       "array([[5, 0, 0, 0],\n",
       "       [0, 5, 0, 0],\n",
       "       [0, 0, 5, 0],\n",
       "       [0, 0, 0, 5]], dtype=int8)"
      ]
     },
     "execution_count": 12,
     "metadata": {},
     "output_type": "execute_result"
    }
   ],
   "source": [
    "# Using np.eye() to generate a diagonol matrix with 5 on the diagonol\n",
    "np.eye(4, dtype=np.int8)*5"
   ]
  },
  {
   "cell_type": "markdown",
   "id": "8b9abe6b",
   "metadata": {
    "papermill": {
     "duration": 0.009387,
     "end_time": "2023-11-30T20:12:27.694780",
     "exception": false,
     "start_time": "2023-11-30T20:12:27.685393",
     "status": "completed"
    },
    "tags": []
   },
   "source": [
    "----------------------------\n",
    "### **Generate random numbers**"
   ]
  },
  {
   "cell_type": "markdown",
   "id": "5122b35b",
   "metadata": {
    "papermill": {
     "duration": 0.009201,
     "end_time": "2023-11-30T20:12:27.713563",
     "exception": false,
     "start_time": "2023-11-30T20:12:27.704362",
     "status": "completed"
    },
    "tags": []
   },
   "source": [
    "**np.random.randint(low, high=None, size=None, dtype=int)**  \n",
    "\n",
    "numpy random module used to generat random numbers, and has following parameters:  \n",
    "**low**: The lowest (inclusive) integer to be drawn from the distribution.  \n",
    "**high**: The highest (exclusive) integer to be drawn from the distribution. If omitted, the range is assumed to be [0, low).  \n",
    "**size**: The number of random integers to generate. If size is None, a single random integer is returned. If size is an integer, it specifies the number of integers to generate.  \n",
    "**dtype**: Data type of the result. If not specified, it defaults to the data type of the array created."
   ]
  },
  {
   "cell_type": "code",
   "execution_count": 13,
   "id": "68732ac6",
   "metadata": {
    "execution": {
     "iopub.execute_input": "2023-11-30T20:12:27.734866Z",
     "iopub.status.busy": "2023-11-30T20:12:27.734054Z",
     "iopub.status.idle": "2023-11-30T20:12:27.742696Z",
     "shell.execute_reply": "2023-11-30T20:12:27.741556Z"
    },
    "papermill": {
     "duration": 0.021987,
     "end_time": "2023-11-30T20:12:27.745091",
     "exception": false,
     "start_time": "2023-11-30T20:12:27.723104",
     "status": "completed"
    },
    "tags": []
   },
   "outputs": [
    {
     "data": {
      "text/plain": [
       "array([6, 0, 4])"
      ]
     },
     "execution_count": 13,
     "metadata": {},
     "output_type": "execute_result"
    }
   ],
   "source": [
    "np.random.randint(10, size=3)"
   ]
  },
  {
   "cell_type": "code",
   "execution_count": 14,
   "id": "4f068d11",
   "metadata": {
    "execution": {
     "iopub.execute_input": "2023-11-30T20:12:27.766836Z",
     "iopub.status.busy": "2023-11-30T20:12:27.765734Z",
     "iopub.status.idle": "2023-11-30T20:12:27.773566Z",
     "shell.execute_reply": "2023-11-30T20:12:27.772554Z"
    },
    "papermill": {
     "duration": 0.020912,
     "end_time": "2023-11-30T20:12:27.775743",
     "exception": false,
     "start_time": "2023-11-30T20:12:27.754831",
     "status": "completed"
    },
    "tags": []
   },
   "outputs": [
    {
     "data": {
      "text/plain": [
       "array([[ 2, 12,  7],\n",
       "       [ 1, 10, 10]])"
      ]
     },
     "execution_count": 14,
     "metadata": {},
     "output_type": "execute_result"
    }
   ],
   "source": [
    "np.random.randint(1,15,size=[2,3])"
   ]
  },
  {
   "cell_type": "markdown",
   "id": "dd5d446e",
   "metadata": {
    "papermill": {
     "duration": 0.009631,
     "end_time": "2023-11-30T20:12:27.795258",
     "exception": false,
     "start_time": "2023-11-30T20:12:27.785627",
     "status": "completed"
    },
    "tags": []
   },
   "source": [
    "**np.random.randn(d0,d1,...dn)**\n",
    "\n",
    "generate random numbers from a **standard normal distribution**(mean=0, standard deviation=1). Its parameters d0, d1,...dn are the dimenstions of the output. If it is not given, a single random number will be generated."
   ]
  },
  {
   "cell_type": "code",
   "execution_count": 15,
   "id": "878139bc",
   "metadata": {
    "execution": {
     "iopub.execute_input": "2023-11-30T20:12:27.816627Z",
     "iopub.status.busy": "2023-11-30T20:12:27.816202Z",
     "iopub.status.idle": "2023-11-30T20:12:27.823167Z",
     "shell.execute_reply": "2023-11-30T20:12:27.822181Z"
    },
    "papermill": {
     "duration": 0.020058,
     "end_time": "2023-11-30T20:12:27.825221",
     "exception": false,
     "start_time": "2023-11-30T20:12:27.805163",
     "status": "completed"
    },
    "tags": []
   },
   "outputs": [
    {
     "data": {
      "text/plain": [
       "-0.3491136471785266"
      ]
     },
     "execution_count": 15,
     "metadata": {},
     "output_type": "execute_result"
    }
   ],
   "source": [
    "random_sample = np.random.randn()\n",
    "random_sample"
   ]
  },
  {
   "cell_type": "code",
   "execution_count": 16,
   "id": "31c5c853",
   "metadata": {
    "execution": {
     "iopub.execute_input": "2023-11-30T20:12:27.847490Z",
     "iopub.status.busy": "2023-11-30T20:12:27.847071Z",
     "iopub.status.idle": "2023-11-30T20:12:27.854194Z",
     "shell.execute_reply": "2023-11-30T20:12:27.853130Z"
    },
    "papermill": {
     "duration": 0.020942,
     "end_time": "2023-11-30T20:12:27.856529",
     "exception": false,
     "start_time": "2023-11-30T20:12:27.835587",
     "status": "completed"
    },
    "tags": []
   },
   "outputs": [
    {
     "data": {
      "text/plain": [
       "array([-1.28752314, -1.47489131,  0.18549446])"
      ]
     },
     "execution_count": 16,
     "metadata": {},
     "output_type": "execute_result"
    }
   ],
   "source": [
    "random_array = np.random.randn(3)\n",
    "random_array"
   ]
  },
  {
   "cell_type": "code",
   "execution_count": 17,
   "id": "dcf1a827",
   "metadata": {
    "execution": {
     "iopub.execute_input": "2023-11-30T20:12:27.878910Z",
     "iopub.status.busy": "2023-11-30T20:12:27.878544Z",
     "iopub.status.idle": "2023-11-30T20:12:27.884003Z",
     "shell.execute_reply": "2023-11-30T20:12:27.883039Z"
    },
    "papermill": {
     "duration": 0.019854,
     "end_time": "2023-11-30T20:12:27.886563",
     "exception": false,
     "start_time": "2023-11-30T20:12:27.866709",
     "status": "completed"
    },
    "tags": []
   },
   "outputs": [
    {
     "name": "stdout",
     "output_type": "stream",
     "text": [
      "[[-0.4441308  -0.39649154 -0.23538467  0.23235012]\n",
      " [-0.58042198  0.63417176  0.24875782  0.01981706]]\n"
     ]
    }
   ],
   "source": [
    "random_matrix = np.random.randn(2,4)\n",
    "print(random_matrix)"
   ]
  }
 ],
 "metadata": {
  "kaggle": {
   "accelerator": "none",
   "dataSources": [],
   "dockerImageVersionId": 30587,
   "isGpuEnabled": false,
   "isInternetEnabled": true,
   "language": "python",
   "sourceType": "notebook"
  },
  "kernelspec": {
   "display_name": "Python 3",
   "language": "python",
   "name": "python3"
  },
  "language_info": {
   "codemirror_mode": {
    "name": "ipython",
    "version": 3
   },
   "file_extension": ".py",
   "mimetype": "text/x-python",
   "name": "python",
   "nbconvert_exporter": "python",
   "pygments_lexer": "ipython3",
   "version": "3.10.12"
  },
  "papermill": {
   "default_parameters": {},
   "duration": 4.397652,
   "end_time": "2023-11-30T20:12:28.216013",
   "environment_variables": {},
   "exception": null,
   "input_path": "__notebook__.ipynb",
   "output_path": "__notebook__.ipynb",
   "parameters": {},
   "start_time": "2023-11-30T20:12:23.818361",
   "version": "2.4.0"
  }
 },
 "nbformat": 4,
 "nbformat_minor": 5
}
